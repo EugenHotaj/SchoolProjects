{
 "cells": [
  {
   "cell_type": "code",
   "execution_count": 1,
   "metadata": {
    "collapsed": false
   },
   "outputs": [
    {
     "name": "stderr",
     "output_type": "stream",
     "text": [
      "WARNING:gensim.models.ldamodel:too few updates, training might not converge; consider increasing the number of passes or iterations to improve accuracy\n"
     ]
    }
   ],
   "source": [
    "from gensim import corpora, models, similarities\n",
    "\n",
    "# build corpus\n",
    "corpus = corpora.ucicorpus.UciCorpus('docword.nips.txt','vocab.nips.txt');\n"
   ]
  },
  {
   "cell_type": "code",
   "execution_count": 2,
   "metadata": {
    "collapsed": false
   },
   "outputs": [],
   "source": [
    "# default (n=100)\n",
    "lda_default = models.ldamodel.LdaModel(corpus, id2word=corpus.id2word);\n",
    "\n",
    "# lda_numtopics\n",
    "lda_2  = models.ldamodel.LdaModel(corpus, id2word=corpus.id2word, num_topics=2);\n",
    "lda_5  = models.ldamodel.LdaModel(corpus, id2word=corpus.id2word, num_topics=5);\n",
    "lda_10 = models.ldamodel.LdaModel(corpus, id2word=corpus.id2word, num_topics=10);\n",
    "lda_20 = models.ldamodel.LdaModel(corpus, id2word=corpus.id2word, num_topics=20);\n",
    "lda_50 = models.ldamodel.LdaModel(corpus, id2word=corpus.id2word, num_topics=50);\n",
    "\n",
    "# print\n",
    "\n",
    "print(lda_default.print_topics(100));\n",
    "print(lda_2.print_topics(2));\n",
    "print(lda_5.print_topics(5));\n",
    "print(lda_10.print_topics(10));\n",
    "print(lda_20.print_topics(20));\n",
    "print(lda_50.print_topics(50));"
   ]
  }
 ],
 "metadata": {
  "kernelspec": {
   "display_name": "Python 3",
   "language": "python",
   "name": "python3"
  },
  "language_info": {
   "codemirror_mode": {
    "name": "ipython",
    "version": 3
   },
   "file_extension": ".py",
   "mimetype": "text/x-python",
   "name": "python",
   "nbconvert_exporter": "python",
   "pygments_lexer": "ipython3",
   "version": "3.5.1"
  }
 },
 "nbformat": 4,
 "nbformat_minor": 0
}
