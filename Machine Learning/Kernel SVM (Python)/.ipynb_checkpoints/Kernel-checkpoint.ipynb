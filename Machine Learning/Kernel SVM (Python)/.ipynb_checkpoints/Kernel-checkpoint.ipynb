{
 "cells": [
  {
   "cell_type": "code",
   "execution_count": 21,
   "metadata": {
    "collapsed": false
   },
   "outputs": [],
   "source": [
    "import numpy as np;\n",
    "import matplotlib.pyplot as plt;\n",
    "from sklearn import cross_validation as cv;\n",
    "from sklearn.cross_validation import cross_val_score as cvs;\n",
    "from sklearn.svm import SVC;\n",
    "from sklearn.multiclass import OneVsRestClassifier;"
   ]
  },
  {
   "cell_type": "code",
   "execution_count": 22,
   "metadata": {
    "collapsed": true
   },
   "outputs": [],
   "source": [
    "train_file = open(\"mnist_train.txt\");\n",
    "test_file = open(\"mnist_test.txt\");\n",
    "\n",
    "train_num = 2000;\n",
    "test_num = 1000;\n",
    "\n",
    "image_size = 28*28;\n",
    "\n",
    "train_set = np.array([]);\n",
    "train_set_y = np.array([]);\n",
    "train_set_x = np.array([]).reshape(0,image_size);\n",
    "\n",
    "test_set = np.array([]);\n",
    "test_set_y = np.array([]);\n",
    "test_set_x = np.array([]).reshape(0,image_size);\n",
    "\n",
    "for i in range(train_num):\n",
    "    curr = np.array(train_file.readline().split(\",\"));\n",
    "    curr = curr.astype(np.int);\n",
    "    \n",
    "    n = curr[0];\n",
    "    v = 2*curr[1:]/255-1;\n",
    "    train_set = np.append(train_set, {\"n\" : n, \"v\" : v});\n",
    "    train_set_y = np.append(train_set_y,n);\n",
    "    train_set_x = np.vstack((train_set_x,v));    \n",
    "    \n",
    "for i in range(test_num):\n",
    "    curr = np.array(test_file.readline().split(\",\"));\n",
    "    curr = curr.astype(np.int);\n",
    "    \n",
    "    n = curr[0];\n",
    "    v = 2*curr[1:]/255-1;\n",
    "\n",
    "    test_set = np.append(test_set, {\"n\" : n, \"v\" : v});\n",
    "    test_set_y = np.append(test_set_y,n);\n",
    "    test_set_x = np.vstack((test_set_x,v));  "
   ]
  },
  {
   "cell_type": "code",
   "execution_count": 24,
   "metadata": {
    "collapsed": false
   },
   "outputs": [
    {
     "name": "stdout",
     "output_type": "stream",
     "text": [
      "0.09\n"
     ]
    }
   ],
   "source": [
    "clf = OneVsRestClassifier(SVC()).fit(train_set_x, train_set_y);\n",
    "y = clf.predict(test_set_x);\n",
    "print((test_num-np.sum(np.equal(y,test_set_y)))/test_num);"
   ]
  },
  {
   "cell_type": "code",
   "execution_count": 5,
   "metadata": {
    "collapsed": false
   },
   "outputs": [
    {
     "name": "stdout",
     "output_type": "stream",
     "text": [
      "0.095\n"
     ]
    }
   ],
   "source": [
    "print(1-np.mean(cvs(OneVsRestClassifier(SVC()),train_set_x,y=train_set_y,cv=10)));"
   ]
  },
  {
   "cell_type": "code",
   "execution_count": 6,
   "metadata": {
    "collapsed": false,
    "scrolled": true
   },
   "outputs": [
    {
     "name": "stdout",
     "output_type": "stream",
     "text": [
      "0.2155\n"
     ]
    }
   ],
   "source": [
    "print(1-np.mean(cvs(OneVsRestClassifier(SVC(gamma=1/len(train_set)**2,C=100)),train_set_x,y=train_set_y,cv=10)));"
   ]
  },
  {
   "cell_type": "code",
   "execution_count": 7,
   "metadata": {
    "collapsed": false
   },
   "outputs": [
    {
     "name": "stdout",
     "output_type": "stream",
     "text": [
      "0.2095\n"
     ]
    }
   ],
   "source": [
    "print(1-np.mean(cvs(OneVsRestClassifier(SVC(gamma=1/len(train_set)**2,C=1)),train_set_x,y=train_set_y,cv=10)));"
   ]
  },
  {
   "cell_type": "code",
   "execution_count": 27,
   "metadata": {
    "collapsed": false
   },
   "outputs": [
    {
     "name": "stderr",
     "output_type": "stream",
     "text": [
      "/home/esh322/anaconda3/lib/python3.5/site-packages/sklearn/svm/base.py:85: DeprecationWarning: gamma=0.0 has been deprecated in favor of gamma='auto' as of 0.17. Backward compatibility for gamma=0.0 will be removed in 0.18\n",
      "  DeprecationWarning)\n",
      "/home/esh322/anaconda3/lib/python3.5/site-packages/sklearn/svm/base.py:85: DeprecationWarning: gamma=0.0 has been deprecated in favor of gamma='auto' as of 0.17. Backward compatibility for gamma=0.0 will be removed in 0.18\n",
      "  DeprecationWarning)\n",
      "/home/esh322/anaconda3/lib/python3.5/site-packages/sklearn/svm/base.py:85: DeprecationWarning: gamma=0.0 has been deprecated in favor of gamma='auto' as of 0.17. Backward compatibility for gamma=0.0 will be removed in 0.18\n",
      "  DeprecationWarning)\n",
      "/home/esh322/anaconda3/lib/python3.5/site-packages/sklearn/svm/base.py:85: DeprecationWarning: gamma=0.0 has been deprecated in favor of gamma='auto' as of 0.17. Backward compatibility for gamma=0.0 will be removed in 0.18\n",
      "  DeprecationWarning)\n",
      "/home/esh322/anaconda3/lib/python3.5/site-packages/sklearn/svm/base.py:85: DeprecationWarning: gamma=0.0 has been deprecated in favor of gamma='auto' as of 0.17. Backward compatibility for gamma=0.0 will be removed in 0.18\n",
      "  DeprecationWarning)\n",
      "/home/esh322/anaconda3/lib/python3.5/site-packages/sklearn/svm/base.py:85: DeprecationWarning: gamma=0.0 has been deprecated in favor of gamma='auto' as of 0.17. Backward compatibility for gamma=0.0 will be removed in 0.18\n",
      "  DeprecationWarning)\n",
      "/home/esh322/anaconda3/lib/python3.5/site-packages/sklearn/svm/base.py:85: DeprecationWarning: gamma=0.0 has been deprecated in favor of gamma='auto' as of 0.17. Backward compatibility for gamma=0.0 will be removed in 0.18\n",
      "  DeprecationWarning)\n",
      "/home/esh322/anaconda3/lib/python3.5/site-packages/sklearn/svm/base.py:85: DeprecationWarning: gamma=0.0 has been deprecated in favor of gamma='auto' as of 0.17. Backward compatibility for gamma=0.0 will be removed in 0.18\n",
      "  DeprecationWarning)\n",
      "/home/esh322/anaconda3/lib/python3.5/site-packages/sklearn/svm/base.py:85: DeprecationWarning: gamma=0.0 has been deprecated in favor of gamma='auto' as of 0.17. Backward compatibility for gamma=0.0 will be removed in 0.18\n",
      "  DeprecationWarning)\n",
      "/home/esh322/anaconda3/lib/python3.5/site-packages/sklearn/svm/base.py:85: DeprecationWarning: gamma=0.0 has been deprecated in favor of gamma='auto' as of 0.17. Backward compatibility for gamma=0.0 will be removed in 0.18\n",
      "  DeprecationWarning)\n",
      "/home/esh322/anaconda3/lib/python3.5/site-packages/sklearn/svm/base.py:85: DeprecationWarning: gamma=0.0 has been deprecated in favor of gamma='auto' as of 0.17. Backward compatibility for gamma=0.0 will be removed in 0.18\n",
      "  DeprecationWarning)\n",
      "/home/esh322/anaconda3/lib/python3.5/site-packages/sklearn/svm/base.py:85: DeprecationWarning: gamma=0.0 has been deprecated in favor of gamma='auto' as of 0.17. Backward compatibility for gamma=0.0 will be removed in 0.18\n",
      "  DeprecationWarning)\n",
      "/home/esh322/anaconda3/lib/python3.5/site-packages/sklearn/svm/base.py:85: DeprecationWarning: gamma=0.0 has been deprecated in favor of gamma='auto' as of 0.17. Backward compatibility for gamma=0.0 will be removed in 0.18\n",
      "  DeprecationWarning)\n",
      "/home/esh322/anaconda3/lib/python3.5/site-packages/sklearn/svm/base.py:85: DeprecationWarning: gamma=0.0 has been deprecated in favor of gamma='auto' as of 0.17. Backward compatibility for gamma=0.0 will be removed in 0.18\n",
      "  DeprecationWarning)\n",
      "/home/esh322/anaconda3/lib/python3.5/site-packages/sklearn/svm/base.py:85: DeprecationWarning: gamma=0.0 has been deprecated in favor of gamma='auto' as of 0.17. Backward compatibility for gamma=0.0 will be removed in 0.18\n",
      "  DeprecationWarning)\n",
      "/home/esh322/anaconda3/lib/python3.5/site-packages/sklearn/svm/base.py:85: DeprecationWarning: gamma=0.0 has been deprecated in favor of gamma='auto' as of 0.17. Backward compatibility for gamma=0.0 will be removed in 0.18\n",
      "  DeprecationWarning)\n",
      "/home/esh322/anaconda3/lib/python3.5/site-packages/sklearn/svm/base.py:85: DeprecationWarning: gamma=0.0 has been deprecated in favor of gamma='auto' as of 0.17. Backward compatibility for gamma=0.0 will be removed in 0.18\n",
      "  DeprecationWarning)\n",
      "/home/esh322/anaconda3/lib/python3.5/site-packages/sklearn/svm/base.py:85: DeprecationWarning: gamma=0.0 has been deprecated in favor of gamma='auto' as of 0.17. Backward compatibility for gamma=0.0 will be removed in 0.18\n",
      "  DeprecationWarning)\n",
      "/home/esh322/anaconda3/lib/python3.5/site-packages/sklearn/svm/base.py:85: DeprecationWarning: gamma=0.0 has been deprecated in favor of gamma='auto' as of 0.17. Backward compatibility for gamma=0.0 will be removed in 0.18\n",
      "  DeprecationWarning)\n",
      "/home/esh322/anaconda3/lib/python3.5/site-packages/sklearn/svm/base.py:85: DeprecationWarning: gamma=0.0 has been deprecated in favor of gamma='auto' as of 0.17. Backward compatibility for gamma=0.0 will be removed in 0.18\n",
      "  DeprecationWarning)\n",
      "/home/esh322/anaconda3/lib/python3.5/site-packages/sklearn/svm/base.py:85: DeprecationWarning: gamma=0.0 has been deprecated in favor of gamma='auto' as of 0.17. Backward compatibility for gamma=0.0 will be removed in 0.18\n",
      "  DeprecationWarning)\n",
      "/home/esh322/anaconda3/lib/python3.5/site-packages/sklearn/svm/base.py:85: DeprecationWarning: gamma=0.0 has been deprecated in favor of gamma='auto' as of 0.17. Backward compatibility for gamma=0.0 will be removed in 0.18\n",
      "  DeprecationWarning)\n",
      "/home/esh322/anaconda3/lib/python3.5/site-packages/sklearn/svm/base.py:85: DeprecationWarning: gamma=0.0 has been deprecated in favor of gamma='auto' as of 0.17. Backward compatibility for gamma=0.0 will be removed in 0.18\n",
      "  DeprecationWarning)\n",
      "/home/esh322/anaconda3/lib/python3.5/site-packages/sklearn/svm/base.py:85: DeprecationWarning: gamma=0.0 has been deprecated in favor of gamma='auto' as of 0.17. Backward compatibility for gamma=0.0 will be removed in 0.18\n",
      "  DeprecationWarning)\n",
      "/home/esh322/anaconda3/lib/python3.5/site-packages/sklearn/svm/base.py:85: DeprecationWarning: gamma=0.0 has been deprecated in favor of gamma='auto' as of 0.17. Backward compatibility for gamma=0.0 will be removed in 0.18\n",
      "  DeprecationWarning)\n",
      "/home/esh322/anaconda3/lib/python3.5/site-packages/sklearn/svm/base.py:85: DeprecationWarning: gamma=0.0 has been deprecated in favor of gamma='auto' as of 0.17. Backward compatibility for gamma=0.0 will be removed in 0.18\n",
      "  DeprecationWarning)\n",
      "/home/esh322/anaconda3/lib/python3.5/site-packages/sklearn/svm/base.py:85: DeprecationWarning: gamma=0.0 has been deprecated in favor of gamma='auto' as of 0.17. Backward compatibility for gamma=0.0 will be removed in 0.18\n",
      "  DeprecationWarning)\n",
      "/home/esh322/anaconda3/lib/python3.5/site-packages/sklearn/svm/base.py:85: DeprecationWarning: gamma=0.0 has been deprecated in favor of gamma='auto' as of 0.17. Backward compatibility for gamma=0.0 will be removed in 0.18\n",
      "  DeprecationWarning)\n",
      "/home/esh322/anaconda3/lib/python3.5/site-packages/sklearn/svm/base.py:85: DeprecationWarning: gamma=0.0 has been deprecated in favor of gamma='auto' as of 0.17. Backward compatibility for gamma=0.0 will be removed in 0.18\n",
      "  DeprecationWarning)\n",
      "/home/esh322/anaconda3/lib/python3.5/site-packages/sklearn/svm/base.py:85: DeprecationWarning: gamma=0.0 has been deprecated in favor of gamma='auto' as of 0.17. Backward compatibility for gamma=0.0 will be removed in 0.18\n",
      "  DeprecationWarning)\n",
      "/home/esh322/anaconda3/lib/python3.5/site-packages/sklearn/svm/base.py:85: DeprecationWarning: gamma=0.0 has been deprecated in favor of gamma='auto' as of 0.17. Backward compatibility for gamma=0.0 will be removed in 0.18\n",
      "  DeprecationWarning)\n",
      "/home/esh322/anaconda3/lib/python3.5/site-packages/sklearn/svm/base.py:85: DeprecationWarning: gamma=0.0 has been deprecated in favor of gamma='auto' as of 0.17. Backward compatibility for gamma=0.0 will be removed in 0.18\n",
      "  DeprecationWarning)\n",
      "/home/esh322/anaconda3/lib/python3.5/site-packages/sklearn/svm/base.py:85: DeprecationWarning: gamma=0.0 has been deprecated in favor of gamma='auto' as of 0.17. Backward compatibility for gamma=0.0 will be removed in 0.18\n",
      "  DeprecationWarning)\n",
      "/home/esh322/anaconda3/lib/python3.5/site-packages/sklearn/svm/base.py:85: DeprecationWarning: gamma=0.0 has been deprecated in favor of gamma='auto' as of 0.17. Backward compatibility for gamma=0.0 will be removed in 0.18\n",
      "  DeprecationWarning)\n",
      "/home/esh322/anaconda3/lib/python3.5/site-packages/sklearn/svm/base.py:85: DeprecationWarning: gamma=0.0 has been deprecated in favor of gamma='auto' as of 0.17. Backward compatibility for gamma=0.0 will be removed in 0.18\n",
      "  DeprecationWarning)\n",
      "/home/esh322/anaconda3/lib/python3.5/site-packages/sklearn/svm/base.py:85: DeprecationWarning: gamma=0.0 has been deprecated in favor of gamma='auto' as of 0.17. Backward compatibility for gamma=0.0 will be removed in 0.18\n",
      "  DeprecationWarning)\n",
      "/home/esh322/anaconda3/lib/python3.5/site-packages/sklearn/svm/base.py:85: DeprecationWarning: gamma=0.0 has been deprecated in favor of gamma='auto' as of 0.17. Backward compatibility for gamma=0.0 will be removed in 0.18\n",
      "  DeprecationWarning)\n",
      "/home/esh322/anaconda3/lib/python3.5/site-packages/sklearn/svm/base.py:85: DeprecationWarning: gamma=0.0 has been deprecated in favor of gamma='auto' as of 0.17. Backward compatibility for gamma=0.0 will be removed in 0.18\n",
      "  DeprecationWarning)\n",
      "/home/esh322/anaconda3/lib/python3.5/site-packages/sklearn/svm/base.py:85: DeprecationWarning: gamma=0.0 has been deprecated in favor of gamma='auto' as of 0.17. Backward compatibility for gamma=0.0 will be removed in 0.18\n",
      "  DeprecationWarning)\n",
      "/home/esh322/anaconda3/lib/python3.5/site-packages/sklearn/svm/base.py:85: DeprecationWarning: gamma=0.0 has been deprecated in favor of gamma='auto' as of 0.17. Backward compatibility for gamma=0.0 will be removed in 0.18\n",
      "  DeprecationWarning)\n",
      "/home/esh322/anaconda3/lib/python3.5/site-packages/sklearn/svm/base.py:85: DeprecationWarning: gamma=0.0 has been deprecated in favor of gamma='auto' as of 0.17. Backward compatibility for gamma=0.0 will be removed in 0.18\n",
      "  DeprecationWarning)\n",
      "/home/esh322/anaconda3/lib/python3.5/site-packages/sklearn/svm/base.py:85: DeprecationWarning: gamma=0.0 has been deprecated in favor of gamma='auto' as of 0.17. Backward compatibility for gamma=0.0 will be removed in 0.18\n",
      "  DeprecationWarning)\n",
      "/home/esh322/anaconda3/lib/python3.5/site-packages/sklearn/svm/base.py:85: DeprecationWarning: gamma=0.0 has been deprecated in favor of gamma='auto' as of 0.17. Backward compatibility for gamma=0.0 will be removed in 0.18\n",
      "  DeprecationWarning)\n",
      "/home/esh322/anaconda3/lib/python3.5/site-packages/sklearn/svm/base.py:85: DeprecationWarning: gamma=0.0 has been deprecated in favor of gamma='auto' as of 0.17. Backward compatibility for gamma=0.0 will be removed in 0.18\n",
      "  DeprecationWarning)\n",
      "/home/esh322/anaconda3/lib/python3.5/site-packages/sklearn/svm/base.py:85: DeprecationWarning: gamma=0.0 has been deprecated in favor of gamma='auto' as of 0.17. Backward compatibility for gamma=0.0 will be removed in 0.18\n",
      "  DeprecationWarning)\n",
      "/home/esh322/anaconda3/lib/python3.5/site-packages/sklearn/svm/base.py:85: DeprecationWarning: gamma=0.0 has been deprecated in favor of gamma='auto' as of 0.17. Backward compatibility for gamma=0.0 will be removed in 0.18\n",
      "  DeprecationWarning)\n",
      "/home/esh322/anaconda3/lib/python3.5/site-packages/sklearn/svm/base.py:85: DeprecationWarning: gamma=0.0 has been deprecated in favor of gamma='auto' as of 0.17. Backward compatibility for gamma=0.0 will be removed in 0.18\n",
      "  DeprecationWarning)\n",
      "/home/esh322/anaconda3/lib/python3.5/site-packages/sklearn/svm/base.py:85: DeprecationWarning: gamma=0.0 has been deprecated in favor of gamma='auto' as of 0.17. Backward compatibility for gamma=0.0 will be removed in 0.18\n",
      "  DeprecationWarning)\n",
      "/home/esh322/anaconda3/lib/python3.5/site-packages/sklearn/svm/base.py:85: DeprecationWarning: gamma=0.0 has been deprecated in favor of gamma='auto' as of 0.17. Backward compatibility for gamma=0.0 will be removed in 0.18\n",
      "  DeprecationWarning)\n",
      "/home/esh322/anaconda3/lib/python3.5/site-packages/sklearn/svm/base.py:85: DeprecationWarning: gamma=0.0 has been deprecated in favor of gamma='auto' as of 0.17. Backward compatibility for gamma=0.0 will be removed in 0.18\n",
      "  DeprecationWarning)\n",
      "/home/esh322/anaconda3/lib/python3.5/site-packages/sklearn/svm/base.py:85: DeprecationWarning: gamma=0.0 has been deprecated in favor of gamma='auto' as of 0.17. Backward compatibility for gamma=0.0 will be removed in 0.18\n",
      "  DeprecationWarning)\n",
      "/home/esh322/anaconda3/lib/python3.5/site-packages/sklearn/svm/base.py:85: DeprecationWarning: gamma=0.0 has been deprecated in favor of gamma='auto' as of 0.17. Backward compatibility for gamma=0.0 will be removed in 0.18\n",
      "  DeprecationWarning)\n",
      "/home/esh322/anaconda3/lib/python3.5/site-packages/sklearn/svm/base.py:85: DeprecationWarning: gamma=0.0 has been deprecated in favor of gamma='auto' as of 0.17. Backward compatibility for gamma=0.0 will be removed in 0.18\n",
      "  DeprecationWarning)\n",
      "/home/esh322/anaconda3/lib/python3.5/site-packages/sklearn/svm/base.py:85: DeprecationWarning: gamma=0.0 has been deprecated in favor of gamma='auto' as of 0.17. Backward compatibility for gamma=0.0 will be removed in 0.18\n",
      "  DeprecationWarning)\n",
      "/home/esh322/anaconda3/lib/python3.5/site-packages/sklearn/svm/base.py:85: DeprecationWarning: gamma=0.0 has been deprecated in favor of gamma='auto' as of 0.17. Backward compatibility for gamma=0.0 will be removed in 0.18\n",
      "  DeprecationWarning)\n",
      "/home/esh322/anaconda3/lib/python3.5/site-packages/sklearn/svm/base.py:85: DeprecationWarning: gamma=0.0 has been deprecated in favor of gamma='auto' as of 0.17. Backward compatibility for gamma=0.0 will be removed in 0.18\n",
      "  DeprecationWarning)\n",
      "/home/esh322/anaconda3/lib/python3.5/site-packages/sklearn/svm/base.py:85: DeprecationWarning: gamma=0.0 has been deprecated in favor of gamma='auto' as of 0.17. Backward compatibility for gamma=0.0 will be removed in 0.18\n",
      "  DeprecationWarning)\n",
      "/home/esh322/anaconda3/lib/python3.5/site-packages/sklearn/svm/base.py:85: DeprecationWarning: gamma=0.0 has been deprecated in favor of gamma='auto' as of 0.17. Backward compatibility for gamma=0.0 will be removed in 0.18\n",
      "  DeprecationWarning)\n",
      "/home/esh322/anaconda3/lib/python3.5/site-packages/sklearn/svm/base.py:85: DeprecationWarning: gamma=0.0 has been deprecated in favor of gamma='auto' as of 0.17. Backward compatibility for gamma=0.0 will be removed in 0.18\n",
      "  DeprecationWarning)\n",
      "/home/esh322/anaconda3/lib/python3.5/site-packages/sklearn/svm/base.py:85: DeprecationWarning: gamma=0.0 has been deprecated in favor of gamma='auto' as of 0.17. Backward compatibility for gamma=0.0 will be removed in 0.18\n",
      "  DeprecationWarning)\n",
      "/home/esh322/anaconda3/lib/python3.5/site-packages/sklearn/svm/base.py:85: DeprecationWarning: gamma=0.0 has been deprecated in favor of gamma='auto' as of 0.17. Backward compatibility for gamma=0.0 will be removed in 0.18\n",
      "  DeprecationWarning)\n",
      "/home/esh322/anaconda3/lib/python3.5/site-packages/sklearn/svm/base.py:85: DeprecationWarning: gamma=0.0 has been deprecated in favor of gamma='auto' as of 0.17. Backward compatibility for gamma=0.0 will be removed in 0.18\n",
      "  DeprecationWarning)\n",
      "/home/esh322/anaconda3/lib/python3.5/site-packages/sklearn/svm/base.py:85: DeprecationWarning: gamma=0.0 has been deprecated in favor of gamma='auto' as of 0.17. Backward compatibility for gamma=0.0 will be removed in 0.18\n",
      "  DeprecationWarning)\n",
      "/home/esh322/anaconda3/lib/python3.5/site-packages/sklearn/svm/base.py:85: DeprecationWarning: gamma=0.0 has been deprecated in favor of gamma='auto' as of 0.17. Backward compatibility for gamma=0.0 will be removed in 0.18\n",
      "  DeprecationWarning)\n",
      "/home/esh322/anaconda3/lib/python3.5/site-packages/sklearn/svm/base.py:85: DeprecationWarning: gamma=0.0 has been deprecated in favor of gamma='auto' as of 0.17. Backward compatibility for gamma=0.0 will be removed in 0.18\n",
      "  DeprecationWarning)\n",
      "/home/esh322/anaconda3/lib/python3.5/site-packages/sklearn/svm/base.py:85: DeprecationWarning: gamma=0.0 has been deprecated in favor of gamma='auto' as of 0.17. Backward compatibility for gamma=0.0 will be removed in 0.18\n",
      "  DeprecationWarning)\n",
      "/home/esh322/anaconda3/lib/python3.5/site-packages/sklearn/svm/base.py:85: DeprecationWarning: gamma=0.0 has been deprecated in favor of gamma='auto' as of 0.17. Backward compatibility for gamma=0.0 will be removed in 0.18\n",
      "  DeprecationWarning)\n",
      "/home/esh322/anaconda3/lib/python3.5/site-packages/sklearn/svm/base.py:85: DeprecationWarning: gamma=0.0 has been deprecated in favor of gamma='auto' as of 0.17. Backward compatibility for gamma=0.0 will be removed in 0.18\n",
      "  DeprecationWarning)\n",
      "/home/esh322/anaconda3/lib/python3.5/site-packages/sklearn/svm/base.py:85: DeprecationWarning: gamma=0.0 has been deprecated in favor of gamma='auto' as of 0.17. Backward compatibility for gamma=0.0 will be removed in 0.18\n",
      "  DeprecationWarning)\n",
      "/home/esh322/anaconda3/lib/python3.5/site-packages/sklearn/svm/base.py:85: DeprecationWarning: gamma=0.0 has been deprecated in favor of gamma='auto' as of 0.17. Backward compatibility for gamma=0.0 will be removed in 0.18\n",
      "  DeprecationWarning)\n",
      "/home/esh322/anaconda3/lib/python3.5/site-packages/sklearn/svm/base.py:85: DeprecationWarning: gamma=0.0 has been deprecated in favor of gamma='auto' as of 0.17. Backward compatibility for gamma=0.0 will be removed in 0.18\n",
      "  DeprecationWarning)\n",
      "/home/esh322/anaconda3/lib/python3.5/site-packages/sklearn/svm/base.py:85: DeprecationWarning: gamma=0.0 has been deprecated in favor of gamma='auto' as of 0.17. Backward compatibility for gamma=0.0 will be removed in 0.18\n",
      "  DeprecationWarning)\n",
      "/home/esh322/anaconda3/lib/python3.5/site-packages/sklearn/svm/base.py:85: DeprecationWarning: gamma=0.0 has been deprecated in favor of gamma='auto' as of 0.17. Backward compatibility for gamma=0.0 will be removed in 0.18\n",
      "  DeprecationWarning)\n",
      "/home/esh322/anaconda3/lib/python3.5/site-packages/sklearn/svm/base.py:85: DeprecationWarning: gamma=0.0 has been deprecated in favor of gamma='auto' as of 0.17. Backward compatibility for gamma=0.0 will be removed in 0.18\n",
      "  DeprecationWarning)\n",
      "/home/esh322/anaconda3/lib/python3.5/site-packages/sklearn/svm/base.py:85: DeprecationWarning: gamma=0.0 has been deprecated in favor of gamma='auto' as of 0.17. Backward compatibility for gamma=0.0 will be removed in 0.18\n",
      "  DeprecationWarning)\n",
      "/home/esh322/anaconda3/lib/python3.5/site-packages/sklearn/svm/base.py:85: DeprecationWarning: gamma=0.0 has been deprecated in favor of gamma='auto' as of 0.17. Backward compatibility for gamma=0.0 will be removed in 0.18\n",
      "  DeprecationWarning)\n",
      "/home/esh322/anaconda3/lib/python3.5/site-packages/sklearn/svm/base.py:85: DeprecationWarning: gamma=0.0 has been deprecated in favor of gamma='auto' as of 0.17. Backward compatibility for gamma=0.0 will be removed in 0.18\n",
      "  DeprecationWarning)\n",
      "/home/esh322/anaconda3/lib/python3.5/site-packages/sklearn/svm/base.py:85: DeprecationWarning: gamma=0.0 has been deprecated in favor of gamma='auto' as of 0.17. Backward compatibility for gamma=0.0 will be removed in 0.18\n",
      "  DeprecationWarning)\n",
      "/home/esh322/anaconda3/lib/python3.5/site-packages/sklearn/svm/base.py:85: DeprecationWarning: gamma=0.0 has been deprecated in favor of gamma='auto' as of 0.17. Backward compatibility for gamma=0.0 will be removed in 0.18\n",
      "  DeprecationWarning)\n",
      "/home/esh322/anaconda3/lib/python3.5/site-packages/sklearn/svm/base.py:85: DeprecationWarning: gamma=0.0 has been deprecated in favor of gamma='auto' as of 0.17. Backward compatibility for gamma=0.0 will be removed in 0.18\n",
      "  DeprecationWarning)\n",
      "/home/esh322/anaconda3/lib/python3.5/site-packages/sklearn/svm/base.py:85: DeprecationWarning: gamma=0.0 has been deprecated in favor of gamma='auto' as of 0.17. Backward compatibility for gamma=0.0 will be removed in 0.18\n",
      "  DeprecationWarning)\n",
      "/home/esh322/anaconda3/lib/python3.5/site-packages/sklearn/svm/base.py:85: DeprecationWarning: gamma=0.0 has been deprecated in favor of gamma='auto' as of 0.17. Backward compatibility for gamma=0.0 will be removed in 0.18\n",
      "  DeprecationWarning)\n",
      "/home/esh322/anaconda3/lib/python3.5/site-packages/sklearn/svm/base.py:85: DeprecationWarning: gamma=0.0 has been deprecated in favor of gamma='auto' as of 0.17. Backward compatibility for gamma=0.0 will be removed in 0.18\n",
      "  DeprecationWarning)\n",
      "/home/esh322/anaconda3/lib/python3.5/site-packages/sklearn/svm/base.py:85: DeprecationWarning: gamma=0.0 has been deprecated in favor of gamma='auto' as of 0.17. Backward compatibility for gamma=0.0 will be removed in 0.18\n",
      "  DeprecationWarning)\n",
      "/home/esh322/anaconda3/lib/python3.5/site-packages/sklearn/svm/base.py:85: DeprecationWarning: gamma=0.0 has been deprecated in favor of gamma='auto' as of 0.17. Backward compatibility for gamma=0.0 will be removed in 0.18\n",
      "  DeprecationWarning)\n",
      "/home/esh322/anaconda3/lib/python3.5/site-packages/sklearn/svm/base.py:85: DeprecationWarning: gamma=0.0 has been deprecated in favor of gamma='auto' as of 0.17. Backward compatibility for gamma=0.0 will be removed in 0.18\n",
      "  DeprecationWarning)\n",
      "/home/esh322/anaconda3/lib/python3.5/site-packages/sklearn/svm/base.py:85: DeprecationWarning: gamma=0.0 has been deprecated in favor of gamma='auto' as of 0.17. Backward compatibility for gamma=0.0 will be removed in 0.18\n",
      "  DeprecationWarning)\n",
      "/home/esh322/anaconda3/lib/python3.5/site-packages/sklearn/svm/base.py:85: DeprecationWarning: gamma=0.0 has been deprecated in favor of gamma='auto' as of 0.17. Backward compatibility for gamma=0.0 will be removed in 0.18\n",
      "  DeprecationWarning)\n",
      "/home/esh322/anaconda3/lib/python3.5/site-packages/sklearn/svm/base.py:85: DeprecationWarning: gamma=0.0 has been deprecated in favor of gamma='auto' as of 0.17. Backward compatibility for gamma=0.0 will be removed in 0.18\n",
      "  DeprecationWarning)\n",
      "/home/esh322/anaconda3/lib/python3.5/site-packages/sklearn/svm/base.py:85: DeprecationWarning: gamma=0.0 has been deprecated in favor of gamma='auto' as of 0.17. Backward compatibility for gamma=0.0 will be removed in 0.18\n",
      "  DeprecationWarning)\n",
      "/home/esh322/anaconda3/lib/python3.5/site-packages/sklearn/svm/base.py:85: DeprecationWarning: gamma=0.0 has been deprecated in favor of gamma='auto' as of 0.17. Backward compatibility for gamma=0.0 will be removed in 0.18\n",
      "  DeprecationWarning)\n",
      "/home/esh322/anaconda3/lib/python3.5/site-packages/sklearn/svm/base.py:85: DeprecationWarning: gamma=0.0 has been deprecated in favor of gamma='auto' as of 0.17. Backward compatibility for gamma=0.0 will be removed in 0.18\n",
      "  DeprecationWarning)\n",
      "/home/esh322/anaconda3/lib/python3.5/site-packages/sklearn/svm/base.py:85: DeprecationWarning: gamma=0.0 has been deprecated in favor of gamma='auto' as of 0.17. Backward compatibility for gamma=0.0 will be removed in 0.18\n",
      "  DeprecationWarning)\n",
      "/home/esh322/anaconda3/lib/python3.5/site-packages/sklearn/svm/base.py:85: DeprecationWarning: gamma=0.0 has been deprecated in favor of gamma='auto' as of 0.17. Backward compatibility for gamma=0.0 will be removed in 0.18\n",
      "  DeprecationWarning)\n",
      "/home/esh322/anaconda3/lib/python3.5/site-packages/sklearn/svm/base.py:85: DeprecationWarning: gamma=0.0 has been deprecated in favor of gamma='auto' as of 0.17. Backward compatibility for gamma=0.0 will be removed in 0.18\n",
      "  DeprecationWarning)\n",
      "/home/esh322/anaconda3/lib/python3.5/site-packages/sklearn/svm/base.py:85: DeprecationWarning: gamma=0.0 has been deprecated in favor of gamma='auto' as of 0.17. Backward compatibility for gamma=0.0 will be removed in 0.18\n",
      "  DeprecationWarning)\n",
      "/home/esh322/anaconda3/lib/python3.5/site-packages/sklearn/svm/base.py:85: DeprecationWarning: gamma=0.0 has been deprecated in favor of gamma='auto' as of 0.17. Backward compatibility for gamma=0.0 will be removed in 0.18\n",
      "  DeprecationWarning)\n",
      "/home/esh322/anaconda3/lib/python3.5/site-packages/sklearn/svm/base.py:85: DeprecationWarning: gamma=0.0 has been deprecated in favor of gamma='auto' as of 0.17. Backward compatibility for gamma=0.0 will be removed in 0.18\n",
      "  DeprecationWarning)\n",
      "/home/esh322/anaconda3/lib/python3.5/site-packages/sklearn/svm/base.py:85: DeprecationWarning: gamma=0.0 has been deprecated in favor of gamma='auto' as of 0.17. Backward compatibility for gamma=0.0 will be removed in 0.18\n",
      "  DeprecationWarning)\n",
      "/home/esh322/anaconda3/lib/python3.5/site-packages/sklearn/svm/base.py:85: DeprecationWarning: gamma=0.0 has been deprecated in favor of gamma='auto' as of 0.17. Backward compatibility for gamma=0.0 will be removed in 0.18\n",
      "  DeprecationWarning)\n",
      "/home/esh322/anaconda3/lib/python3.5/site-packages/sklearn/svm/base.py:85: DeprecationWarning: gamma=0.0 has been deprecated in favor of gamma='auto' as of 0.17. Backward compatibility for gamma=0.0 will be removed in 0.18\n",
      "  DeprecationWarning)\n",
      "/home/esh322/anaconda3/lib/python3.5/site-packages/sklearn/svm/base.py:85: DeprecationWarning: gamma=0.0 has been deprecated in favor of gamma='auto' as of 0.17. Backward compatibility for gamma=0.0 will be removed in 0.18\n",
      "  DeprecationWarning)\n",
      "/home/esh322/anaconda3/lib/python3.5/site-packages/sklearn/svm/base.py:85: DeprecationWarning: gamma=0.0 has been deprecated in favor of gamma='auto' as of 0.17. Backward compatibility for gamma=0.0 will be removed in 0.18\n",
      "  DeprecationWarning)\n",
      "/home/esh322/anaconda3/lib/python3.5/site-packages/sklearn/svm/base.py:85: DeprecationWarning: gamma=0.0 has been deprecated in favor of gamma='auto' as of 0.17. Backward compatibility for gamma=0.0 will be removed in 0.18\n",
      "  DeprecationWarning)\n",
      "/home/esh322/anaconda3/lib/python3.5/site-packages/sklearn/svm/base.py:85: DeprecationWarning: gamma=0.0 has been deprecated in favor of gamma='auto' as of 0.17. Backward compatibility for gamma=0.0 will be removed in 0.18\n",
      "  DeprecationWarning)\n",
      "/home/esh322/anaconda3/lib/python3.5/site-packages/sklearn/svm/base.py:85: DeprecationWarning: gamma=0.0 has been deprecated in favor of gamma='auto' as of 0.17. Backward compatibility for gamma=0.0 will be removed in 0.18\n",
      "  DeprecationWarning)\n",
      "/home/esh322/anaconda3/lib/python3.5/site-packages/sklearn/svm/base.py:85: DeprecationWarning: gamma=0.0 has been deprecated in favor of gamma='auto' as of 0.17. Backward compatibility for gamma=0.0 will be removed in 0.18\n",
      "  DeprecationWarning)\n",
      "/home/esh322/anaconda3/lib/python3.5/site-packages/sklearn/svm/base.py:85: DeprecationWarning: gamma=0.0 has been deprecated in favor of gamma='auto' as of 0.17. Backward compatibility for gamma=0.0 will be removed in 0.18\n",
      "  DeprecationWarning)\n",
      "/home/esh322/anaconda3/lib/python3.5/site-packages/sklearn/svm/base.py:85: DeprecationWarning: gamma=0.0 has been deprecated in favor of gamma='auto' as of 0.17. Backward compatibility for gamma=0.0 will be removed in 0.18\n",
      "  DeprecationWarning)\n",
      "/home/esh322/anaconda3/lib/python3.5/site-packages/sklearn/svm/base.py:85: DeprecationWarning: gamma=0.0 has been deprecated in favor of gamma='auto' as of 0.17. Backward compatibility for gamma=0.0 will be removed in 0.18\n",
      "  DeprecationWarning)\n",
      "/home/esh322/anaconda3/lib/python3.5/site-packages/sklearn/svm/base.py:85: DeprecationWarning: gamma=0.0 has been deprecated in favor of gamma='auto' as of 0.17. Backward compatibility for gamma=0.0 will be removed in 0.18\n",
      "  DeprecationWarning)\n"
     ]
    },
    {
     "name": "stdout",
     "output_type": "stream",
     "text": [
      "0.2035\n"
     ]
    }
   ],
   "source": [
    "print(1-np.mean(cvs(OneVsRestClassifier(SVC(gamma=0,C=.0001)),train_set_x,y=train_set_y,cv=10)));"
   ]
  },
  {
   "cell_type": "code",
   "execution_count": 11,
   "metadata": {
    "collapsed": false
   },
   "outputs": [
    {
     "name": "stdout",
     "output_type": "stream",
     "text": [
      "0.0885\n"
     ]
    }
   ],
   "source": [
    "print(1-np.mean(cvs(OneVsRestClassifier(SVC(C=1.5)),train_set_x,y=train_set_y,cv=10)));"
   ]
  },
  {
   "cell_type": "code",
   "execution_count": 12,
   "metadata": {
    "collapsed": false
   },
   "outputs": [
    {
     "name": "stdout",
     "output_type": "stream",
     "text": [
      "0.0675\n"
     ]
    }
   ],
   "source": [
    "print(1-np.mean(cvs(OneVsRestClassifier(SVC(C=10000)),train_set_x,y=train_set_y,cv=10)));"
   ]
  },
  {
   "cell_type": "code",
   "execution_count": 13,
   "metadata": {
    "collapsed": false
   },
   "outputs": [
    {
     "name": "stdout",
     "output_type": "stream",
     "text": [
      "0.102\n"
     ]
    }
   ],
   "source": [
    "print(1-np.mean(cvs(OneVsRestClassifier(SVC(gamma=.001, C=1)),train_set_x,y=train_set_y,cv=10)));"
   ]
  },
  {
   "cell_type": "code",
   "execution_count": 14,
   "metadata": {
    "collapsed": false
   },
   "outputs": [
    {
     "name": "stdout",
     "output_type": "stream",
     "text": [
      "0.0575\n"
     ]
    }
   ],
   "source": [
    "print(1-np.mean(cvs(OneVsRestClassifier(SVC(gamma=0.01, C=1000)),train_set_x,y=train_set_y,cv=10)));"
   ]
  },
  {
   "cell_type": "code",
   "execution_count": 15,
   "metadata": {
    "collapsed": false
   },
   "outputs": [
    {
     "name": "stdout",
     "output_type": "stream",
     "text": [
      "0.0895\n"
     ]
    }
   ],
   "source": [
    "print(1-np.mean(cvs(OneVsRestClassifier(SVC(gamma=1/len(train_set),C=100)),train_set_x,y=train_set_y,cv=10)));"
   ]
  },
  {
   "cell_type": "code",
   "execution_count": 25,
   "metadata": {
    "collapsed": false
   },
   "outputs": [
    {
     "name": "stdout",
     "output_type": "stream",
     "text": [
      "0.053\n"
     ]
    }
   ],
   "source": [
    "clf = OneVsRestClassifier(SVC(gamma=0.01,C=1000)).fit(train_set_x, train_set_y);\n",
    "y = clf.predict(test_set_x);\n",
    "print((test_num-np.sum(np.equal(y,test_set_y)))/test_num);"
   ]
  }
 ],
 "metadata": {
  "kernelspec": {
   "display_name": "Python 3",
   "language": "python",
   "name": "python3"
  },
  "language_info": {
   "codemirror_mode": {
    "name": "ipython",
    "version": 3
   },
   "file_extension": ".py",
   "mimetype": "text/x-python",
   "name": "python",
   "nbconvert_exporter": "python",
   "pygments_lexer": "ipython3",
   "version": "3.5.1"
  }
 },
 "nbformat": 4,
 "nbformat_minor": 0
}
